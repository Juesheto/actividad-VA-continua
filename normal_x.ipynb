{
 "cells": [
  {
   "attachments": {},
   "cell_type": "markdown",
   "metadata": {},
   "source": [
    "## Distribucion normal - Ejercicio x \n",
    "\n",
    "* **Nombre**: tigarto\n",
    "* **Distribucion**: normal\n",
    "* **Punto**: 1\n",
    "\n",
    "## Enunciado ##\n",
    "\n",
    "Un experimentador publicó en la revista Annals of Botany un articulo en el que investigó si los diámetros de tallos del girasol dicotiledónea cambiarían, dependiendo de si la planta fue dejada para balancearse libremente en el viento o estaba artificialmente sostenida. Suponga que los diámetros de tallos no soportados en la base, de una especie particular de girasol, tienen una distribución normal con un diámetro promedio de 35 milímetros (mm) y una desviación estándar de 3 mm.\n",
    "* ¿Cuál es la probabilidad de que una planta de girasol tenga un diámetro de base de más de 40 mm? (Rta: 0.0477)\n",
    "Si dos plantas de girasol se seleccionan al azar, ¿cuál es la probabilidad de que ambas plantas tengan un diámetro de base de más de 40 mm? (Rta: 0.00228)\n",
    "* ¿Dentro de qué límites esperaría usted que se encuentren los diámetros de base, con probabilidad .95? (Rta: 29.12 a 40.88)\n",
    "* ¿Qué diámetro representa el 90avo percentil de la distribución de diámetros? (Rta: 38.84)"
   ]
  },
  {
   "cell_type": "code",
   "execution_count": null,
   "metadata": {},
   "outputs": [],
   "source": [
    "# Code..."
   ]
  }
 ],
 "metadata": {
  "language_info": {
   "name": "python"
  },
  "orig_nbformat": 4
 },
 "nbformat": 4,
 "nbformat_minor": 2
}
