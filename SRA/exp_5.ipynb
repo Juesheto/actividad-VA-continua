{
 "cells": [
  {
   "attachments": {},
   "cell_type": "markdown",
   "metadata": {},
   "source": [
    "5. El operador de una estación de bombeo ha observado que la demanda de agua durante las primeras horas de la tarde tiene una distribución aproximadamente exponencial con media de 100 pcs (pies cúbicos por segundo).\n",
    "   * Encuentre la probabilidad de que la demanda sea mayor que 200 pcs durante las primeras horas de la tarde en un día seleccionado al azar. (**Rta**: 0.1353).\n",
    "   * ¿Qué capacidad de bombeo de agua debe mantener la estación durante las primeras horas de la tarde para que la probabilidad de que la demanda sea mayor que la capacidad en un día seleccionado al azar sea de sólo 0.01? (**Rta**: 460.52 pcs).\n"
   ]
  },
  {
   "cell_type": "code",
   "execution_count": 1,
   "metadata": {},
   "outputs": [
    {
     "name": "stdout",
     "output_type": "stream",
     "text": [
      "Probabilidad de que la demanda sea mayor que 200 pcs: 0.1353352832366127\n",
      "Capacidad de bombeo de agua: 460.5170185988091\n"
     ]
    }
   ],
   "source": [
    "import math\n",
    "\n",
    "# Parámetros de la distribución exponencial\n",
    "mu = 100 # Media\n",
    "lambd = 1/mu # Parámetro de escala\n",
    "\n",
    "# Probabilidad de que la demanda sea mayor que 200 pcs\n",
    "prob1 = math.exp(-lambd * 200)\n",
    "print(\"Probabilidad de que la demanda sea mayor que 200 pcs:\", prob1)\n",
    "\n",
    "# Capacidad de bombeo de agua para que la probabilidad de que la demanda sea mayor que la capacidad sea de 0.01\n",
    "prob2 = 0.99\n",
    "capacidad = math.log(1 - prob2) / (-lambd)\n",
    "print(\"Capacidad de bombeo de agua:\", capacidad)\n"
   ]
  }
 ],
 "metadata": {
  "kernelspec": {
   "display_name": "base",
   "language": "python",
   "name": "python3"
  },
  "language_info": {
   "codemirror_mode": {
    "name": "ipython",
    "version": 3
   },
   "file_extension": ".py",
   "mimetype": "text/x-python",
   "name": "python",
   "nbconvert_exporter": "python",
   "pygments_lexer": "ipython3",
   "version": "3.9.12"
  },
  "orig_nbformat": 4
 },
 "nbformat": 4,
 "nbformat_minor": 2
}
