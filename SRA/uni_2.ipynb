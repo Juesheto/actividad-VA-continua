{
 "cells": [
  {
   "attachments": {},
   "cell_type": "markdown",
   "metadata": {},
   "source": [
    "2. Suponga que el valor de una acción varía cada día de 16 a 25 dólares con una distribución uniforme.\n",
    "   * Calcule la probabilidad de que el valor de la acción sea superior a 19 dólares. (**Rta**: $2/3$)\n",
    "   * Calcule la probabilidad de que el valor de la acción esté entre 19 y 22 dólares. (**Rta**: $1/3$)\n",
    "   * Halle el cuartil superior (el $25 \\%$ de todos los días que la acción está por encima de ¿qué valor?). (**Rta**: $22.75$)\n",
    "   * Dado que el valor de la acción es mayor de $18$ dólares, calcule la probabilidad de que el valor de la acción sea mayor de 21 dólares. (**Rta**:$𝑃(𝑥 > 21|𝑥 > 18) = 4/7$)\n"
   ]
  },
  {
   "cell_type": "code",
   "execution_count": 2,
   "metadata": {},
   "outputs": [
    {
     "name": "stdout",
     "output_type": "stream",
     "text": [
      "La probabilidad de que el valor de la acción sea superior a $19 es 0.67\n",
      "La probabilidad de que el valor de la acción esté entre $19 y $22 es 0.33\n",
      "El cuartil superior es 22.75\n",
      "La probabilidad de que el valor de la acción sea mayor de $21 dado que es mayor de $18 es 0.57\n"
     ]
    }
   ],
   "source": [
    "import scipy.stats as stats\n",
    "\n",
    "# Definir los parámetros de la distribución uniforme\n",
    "a = 16\n",
    "b = 25\n",
    "\n",
    "# Calcular la probabilidad de que el valor de la acción sea superior a 19 dólares\n",
    "p1 = 1 - stats.uniform.cdf(19, loc=a, scale=b-a)\n",
    "print(\"La probabilidad de que el valor de la acción sea superior a $19 es {:.2f}\".format(p1))\n",
    "\n",
    "# Calcular la probabilidad de que el valor de la acción esté entre 19 y 22 dólares\n",
    "p2 = stats.uniform.cdf(22, loc=a, scale=b-a) - stats.uniform.cdf(19, loc=a, scale=b-a)\n",
    "print(\"La probabilidad de que el valor de la acción esté entre $19 y $22 es {:.2f}\".format(p2))\n",
    "\n",
    "# Calcular el cuartil superior\n",
    "p3 = stats.uniform.ppf(0.75, loc=a, scale=b-a)\n",
    "print(\"El cuartil superior es {:.2f}\".format(p3))\n",
    "\n",
    "# Calcular la probabilidad de que el valor de la acción sea mayor de 21 dólares dado que es mayor de 18 dólares\n",
    "p4 = (1 - stats.uniform.cdf(21, loc=a, scale=b-a)) / (1 - stats.uniform.cdf(18, loc=a, scale=b-a))\n",
    "print(\"La probabilidad de que el valor de la acción sea mayor de $21 dado que es mayor de $18 es {:.2f}\".format(p4))\n"
   ]
  }
 ],
 "metadata": {
  "kernelspec": {
   "display_name": "base",
   "language": "python",
   "name": "python3"
  },
  "language_info": {
   "codemirror_mode": {
    "name": "ipython",
    "version": 3
   },
   "file_extension": ".py",
   "mimetype": "text/x-python",
   "name": "python",
   "nbconvert_exporter": "python",
   "pygments_lexer": "ipython3",
   "version": "3.9.12"
  },
  "orig_nbformat": 4
 },
 "nbformat": 4,
 "nbformat_minor": 2
}
