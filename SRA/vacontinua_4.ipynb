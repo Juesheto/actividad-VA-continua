{
 "cells": [
  {
   "attachments": {},
   "cell_type": "markdown",
   "metadata": {},
   "source": [
    "4. El tiempo de falla (en cientos de horas) para un transistor es una variable aleatoria ***Y*** con CDF dada por:\n",
    "\n",
    "$$\n",
    "   F(y)=\\begin{cases}\n",
    "   0 & \\text{; } y \\lt 0 \\\\ \n",
    "   1 - e^{-y^2}  & \\text{; } y \\geq 0 \n",
    "   \\end{cases}\n",
    "   $$\n",
    "\n",
    "   * Encuentre el valor del $\\eta$ para el 30° percentil.\n",
    "   * Encuentre $f(y)$\n",
    "   * Encuentre la probabilidad de que el transistor opere al menos 200 horas.\n",
    "   * Encuentre $P(Y > 100 | Y \\leq 200)$\n"
   ]
  },
  {
   "cell_type": "code",
   "execution_count": 9,
   "metadata": {},
   "outputs": [
    {
     "name": "stdout",
     "output_type": "stream",
     "text": [
      "El valor de eta para el 30° percentil es: 0.5972226920828884\n",
      "La probabilidad de que el transistor opere al menos 200 horas es: 0.01831563888873422\n",
      "P(Y > 100 | Y <= 200) es: 0.37474310047580117\n"
     ]
    }
   ],
   "source": [
    "import numpy as np\n",
    "import scipy.integrate as spi\n",
    "\n",
    "# Definir la función de densidad de probabilidad (PDF)\n",
    "def pdf(y):\n",
    "    return 2*y*np.exp(-y**2)\n",
    "\n",
    "# Calcular el valor de eta para el 30° percentil\n",
    "p30 = 0.3\n",
    "eta30 = np.sqrt(-np.log(1-p30))\n",
    "print(\"El valor de eta para el 30° percentil es:\", eta30)\n",
    "\n",
    "# Calcular la función de densidad de probabilidad (PDF)\n",
    "y = np.linspace(0, 10, 1000)\n",
    "f_y = pdf(y)\n",
    "\n",
    "# Calcular la probabilidad de que el transistor opere al menos 200 horas\n",
    "p_opera_200 = 1 - spi.quad(pdf, 0, 2)[0]\n",
    "print(\"La probabilidad de que el transistor opere al menos 200 horas es:\", p_opera_200)\n",
    "\n",
    "# Calcular P(Y > 100 | Y <= 200)\n",
    "p_y_mayor_100 = spi.quad(pdf, 1, np.inf)[0]\n",
    "p_y_entre_0_200 = spi.quad(pdf, 0, 2)[0]\n",
    "p_y_mayor_100_dado_y_entre_0_200 = p_y_mayor_100 / p_y_entre_0_200\n",
    "print(\"P(Y > 100 | Y <= 200) es:\", p_y_mayor_100_dado_y_entre_0_200)\n"
   ]
  }
 ],
 "metadata": {
  "kernelspec": {
   "display_name": "base",
   "language": "python",
   "name": "python3"
  },
  "language_info": {
   "codemirror_mode": {
    "name": "ipython",
    "version": 3
   },
   "file_extension": ".py",
   "mimetype": "text/x-python",
   "name": "python",
   "nbconvert_exporter": "python",
   "pygments_lexer": "ipython3",
   "version": "3.9.12"
  },
  "orig_nbformat": 4
 },
 "nbformat": 4,
 "nbformat_minor": 2
}
