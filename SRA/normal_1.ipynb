{
 "cells": [
  {
   "attachments": {},
   "cell_type": "markdown",
   "metadata": {},
   "source": [
    "1. Un experimentador publicó en la revista **Annals of Botany** un articulo en el que investigó si los diámetros de tallos del girasol dicotiledónea cambiarían, dependiendo de si la planta fue dejada para balancearse libremente en el viento o estaba artificialmente sostenida. Suponga que los diámetros de tallos no soportados en la base, de una especie particular de girasol, tienen una distribución normal con\n",
    "un diámetro promedio de 35 milímetros (mm) y una\n",
    "desviación estándar de 3 mm.\n",
    "   * ¿Cuál es la probabilidad de que una planta de girasol tenga un diámetro de base de más de 40 mm? (**Rta**: 0.0477)\n",
    "   * Si dos plantas de girasol se seleccionan al azar, ¿cuál es la probabilidad de que ambas plantas tengan un diámetro de base de más de 40 mm? (**Rta**: 0.00228)\n",
    "   * ¿Dentro de qué límites esperaría usted que se encuentren los diámetros de base, con probabilidad .95? (**Rta**: 29.12 a 40.88)\n",
    "   * ¿Qué diámetro representa el 90avo percentil de la distribución de diámetros? (**Rta**: 38.84)"
   ]
  },
  {
   "cell_type": "code",
   "execution_count": 1,
   "metadata": {},
   "outputs": [
    {
     "name": "stdout",
     "output_type": "stream",
     "text": [
      "Probabilidad de que una planta de girasol tenga un diámetro de base de más de 40 mm: 0.0478\n",
      "Probabilidad de que dos plantas de girasol tengan un diámetro de base de más de 40 mm: 0.00228\n",
      "Límites esperados para el diámetro de base con probabilidad 0.95: (29.12, 40.88)\n",
      "Diámetro que representa el percentil 90 de la distribución: 38.84\n"
     ]
    }
   ],
   "source": [
    "import scipy.stats as st\n",
    "\n",
    "# probabilidad de que un girasol tenga un diámetro de base de más de 40 mm\n",
    "p1 = 1 - st.norm.cdf(40, loc=35, scale=3)\n",
    "print(f\"Probabilidad de que una planta de girasol tenga un diámetro de base de más de 40 mm: {p1:.4f}\")\n",
    "\n",
    "# probabilidad de que dos plantas de girasol tengan un diámetro de base de más de 40 mm\n",
    "p2 = p1**2\n",
    "print(f\"Probabilidad de que dos plantas de girasol tengan un diámetro de base de más de 40 mm: {p2:.5f}\")\n",
    "\n",
    "# límites esperados para el diámetro de base con probabilidad 0.95\n",
    "low, high = st.norm.interval(0.95, loc=35, scale=3)\n",
    "print(f\"Límites esperados para el diámetro de base con probabilidad 0.95: ({low:.2f}, {high:.2f})\")\n",
    "\n",
    "# diámetro que representa el percentil 90 de la distribución\n",
    "pct90 = st.norm.ppf(0.9, loc=35, scale=3)\n",
    "print(f\"Diámetro que representa el percentil 90 de la distribución: {pct90:.2f}\")\n"
   ]
  }
 ],
 "metadata": {
  "kernelspec": {
   "display_name": "base",
   "language": "python",
   "name": "python3"
  },
  "language_info": {
   "codemirror_mode": {
    "name": "ipython",
    "version": 3
   },
   "file_extension": ".py",
   "mimetype": "text/x-python",
   "name": "python",
   "nbconvert_exporter": "python",
   "pygments_lexer": "ipython3",
   "version": "3.9.12"
  },
  "orig_nbformat": 4
 },
 "nbformat": 4,
 "nbformat_minor": 2
}
